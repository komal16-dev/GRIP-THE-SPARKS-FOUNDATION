{
 "cells": [
  {
   "cell_type": "markdown",
   "source": [
    "# TO EXPLORE SUPERVISED MACHINE LEARNING (LINEAR REGRESSION) "
   ],
   "metadata": {}
  },
  {
   "cell_type": "code",
   "execution_count": null,
   "source": [
    "#Importing important libraries---\r\n",
    "import pandas as pd\r\n",
    "import numpy as np\r\n",
    "import seaborn as sns\r\n",
    "import matplotlib.pyplot as plt\r\n",
    "%matplotlib inline"
   ],
   "outputs": [],
   "metadata": {}
  },
  {
   "cell_type": "code",
   "execution_count": null,
   "source": [
    "#imprting Dataset-\r\n",
    "path =  \"http://bit.ly/w-data\"\r\n",
    "Data = pd.read_csv(path)\r\n",
    "print(\"Data is successfully imported\")\r\n",
    "Data"
   ],
   "outputs": [],
   "metadata": {}
  },
  {
   "cell_type": "code",
   "execution_count": null,
   "source": [
    "#Now print the first 5 records...\r\n",
    "\r\n",
    "Data.head()"
   ],
   "outputs": [],
   "metadata": {}
  },
  {
   "cell_type": "code",
   "execution_count": null,
   "source": [
    "#Now print the last 5 records...\r\n",
    "Data.tail()"
   ],
   "outputs": [],
   "metadata": {}
  },
  {
   "cell_type": "code",
   "execution_count": null,
   "source": [
    "#here we use describe() method so that we can able to see percentiles,mean,std,max,count of the given dataset.\r\n",
    "Data.describe()"
   ],
   "outputs": [],
   "metadata": {}
  },
  {
   "cell_type": "code",
   "execution_count": null,
   "source": [
    "#Let's print the full summary of the dataframe .\r\n",
    "Data.info()"
   ],
   "outputs": [],
   "metadata": {}
  },
  {
   "cell_type": "code",
   "execution_count": null,
   "source": [
    "#importing libraries for plotting Graphs\r\n",
    "import seaborn as sns"
   ],
   "outputs": [],
   "metadata": {}
  },
  {
   "cell_type": "code",
   "execution_count": null,
   "source": [
    "plt.boxplot(Data)\r\n",
    "plt.show()"
   ],
   "outputs": [],
   "metadata": {}
  },
  {
   "cell_type": "markdown",
   "source": [
    "## Visualizing Data."
   ],
   "metadata": {}
  },
  {
   "cell_type": "code",
   "execution_count": null,
   "source": [
    "#ploting Scatter plot----\r\n",
    "plt.xlabel('Hours',fontsize=15)\r\n",
    "plt.ylabel('Scores',fontsize=15)\r\n",
    "plt.title('Hours studied vs Score', fontsize=10)\r\n",
    "plt.scatter(Data.Hours,Data.Scores,color='blue',marker='*')\r\n",
    "plt.show()"
   ],
   "outputs": [],
   "metadata": {}
  },
  {
   "cell_type": "markdown",
   "source": [
    "## This \"SCATTER PLOT\" indicates positive linear relationship as much as hours You study is a chance of high scoring"
   ],
   "metadata": {}
  },
  {
   "cell_type": "code",
   "execution_count": null,
   "source": [
    "X = Data.iloc[:,:-1].values\r\n",
    "Y = Data.iloc[:,1].values\r\n",
    "X\r\n",
    "Y"
   ],
   "outputs": [],
   "metadata": {}
  },
  {
   "cell_type": "markdown",
   "source": [
    "## Preparing Data and splitting into train and test sets."
   ],
   "metadata": {}
  },
  {
   "cell_type": "code",
   "execution_count": null,
   "source": [
    "from sklearn.model_selection import train_test_split\r\n",
    "X_train,X_test,Y_train,Y_test = train_test_split(X,Y,random_state = 0,test_size=0.2)"
   ],
   "outputs": [],
   "metadata": {}
  },
  {
   "cell_type": "code",
   "execution_count": null,
   "source": [
    "#We have Splitted Our Data Using 80:20 RULe(PARETO)\r\n",
    "print(\"X train.shape =\", X_train.shape)\r\n",
    "print(\"Y train.shape =\", Y_train.shape)\r\n",
    "print(\"X test.shape  =\", X_test.shape)\r\n",
    "print(\"Y test.shape  =\", Y_test.shape)\r\n"
   ],
   "outputs": [],
   "metadata": {}
  },
  {
   "cell_type": "markdown",
   "source": [
    "## Training the Model."
   ],
   "metadata": {}
  },
  {
   "cell_type": "code",
   "execution_count": null,
   "source": [
    "from sklearn.linear_model import LinearRegression\r\n",
    "linreg=LinearRegression()"
   ],
   "outputs": [],
   "metadata": {}
  },
  {
   "cell_type": "code",
   "execution_count": null,
   "source": [
    "##Fitting Training Data\r\n",
    "linreg.fit(X_train,Y_train)\r\n",
    "print(\"Training our algorithm is finished\")"
   ],
   "outputs": [],
   "metadata": {}
  },
  {
   "cell_type": "code",
   "execution_count": null,
   "source": [
    "print(\"B0 =\",linreg.intercept_,\"\\nB1 =\",linreg.coef_)## β0 is Intercept & Slope of the line is β1.,\""
   ],
   "outputs": [],
   "metadata": {}
  },
  {
   "cell_type": "code",
   "execution_count": null,
   "source": [
    "##plotting the REGRESSION LINE---\r\n",
    "Y0 = linreg.intercept_ + linreg.coef_*X_train"
   ],
   "outputs": [],
   "metadata": {}
  },
  {
   "cell_type": "code",
   "execution_count": null,
   "source": [
    "#plotting on train data\r\n",
    "plt.scatter(X_train,Y_train,color='green',marker='+')\r\n",
    "plt.plot(X_train,Y0,color='orange')\r\n",
    "plt.xlabel(\"Hours\",fontsize=15)\r\n",
    "plt.ylabel(\"Scores\",fontsize=15)\r\n",
    "plt.title(\"Regression line(Train set)\",fontsize=10)\r\n",
    "plt.show()"
   ],
   "outputs": [],
   "metadata": {}
  },
  {
   "cell_type": "markdown",
   "source": [
    "## Test Data."
   ],
   "metadata": {}
  },
  {
   "cell_type": "code",
   "execution_count": null,
   "source": [
    "Y_pred=linreg.predict(X_test)##predicting the Scores for test data\r\n",
    "print(Y_pred)"
   ],
   "outputs": [],
   "metadata": {}
  },
  {
   "cell_type": "code",
   "execution_count": null,
   "source": [
    "#now print the Y_test.\r\n",
    "Y_test"
   ],
   "outputs": [],
   "metadata": {}
  },
  {
   "cell_type": "code",
   "execution_count": null,
   "source": [
    "#plotting line on test data\r\n",
    "plt.plot(X_test,Y_pred,color='red')\r\n",
    "plt.scatter(X_test,Y_test,color='black',marker='+')\r\n",
    "plt.xlabel(\"Hours\",fontsize=15)\r\n",
    "plt.ylabel(\"Scores\",fontsize=15)\r\n",
    "plt.title(\"Regression line(Test set)\",fontsize=10)\r\n",
    "plt.show()"
   ],
   "outputs": [],
   "metadata": {}
  },
  {
   "cell_type": "markdown",
   "source": [
    "## Comparing Actual vs Predicted Scores.¶"
   ],
   "metadata": {}
  },
  {
   "cell_type": "code",
   "execution_count": null,
   "source": [
    "Y_test1 = list(Y_test)\r\n",
    "prediction=list(Y_pred)\r\n",
    "df_compare = pd.DataFrame({ 'Actual':Y_test1,'Result':prediction})\r\n",
    "df_compare"
   ],
   "outputs": [],
   "metadata": {}
  },
  {
   "cell_type": "markdown",
   "source": [
    "## ACCURACY OF THE MODEL¶"
   ],
   "metadata": {}
  },
  {
   "cell_type": "code",
   "execution_count": null,
   "source": [
    "from sklearn import metrics\r\n",
    "metrics.r2_score(Y_test,Y_pred)#Goodness of fit Test"
   ],
   "outputs": [],
   "metadata": {}
  },
  {
   "cell_type": "markdown",
   "source": [
    "### Above 94% percentage indicates that above fitted Model is a GOOD MODEL. "
   ],
   "metadata": {}
  },
  {
   "cell_type": "markdown",
   "source": [
    "## Predicting the Error"
   ],
   "metadata": {}
  },
  {
   "cell_type": "code",
   "execution_count": null,
   "source": [
    "from sklearn.metrics import mean_squared_error,mean_absolute_error"
   ],
   "outputs": [],
   "metadata": {}
  },
  {
   "cell_type": "code",
   "execution_count": null,
   "source": [
    "MSE = metrics.mean_squared_error(Y_test,Y_pred)\r\n",
    "root_E = np.sqrt(metrics.mean_squared_error(Y_test,Y_pred))\r\n",
    "Abs_E = np.sqrt(metrics.mean_squared_error(Y_test,Y_pred))\r\n",
    "print(\"Mean Squared Error      = \",MSE)\r\n",
    "print(\"Root Mean Squared Error = \",root_E)\r\n",
    "print(\"Mean Absolute Error     = \",Abs_E)"
   ],
   "outputs": [],
   "metadata": {}
  },
  {
   "cell_type": "markdown",
   "source": [
    "## Predicting the score¶"
   ],
   "metadata": {}
  },
  {
   "cell_type": "code",
   "execution_count": null,
   "source": [
    "Prediction_score = linreg.predict([[9.25]])\r\n",
    "print(\"predicted score for a student studying 9.25 hours :\",Prediction_score)"
   ],
   "outputs": [],
   "metadata": {}
  },
  {
   "cell_type": "markdown",
   "source": [
    "## CONCLUSION: "
   ],
   "metadata": {}
  },
  {
   "cell_type": "markdown",
   "source": [
    "### From the above result we can say that if a studied for 9.25 then student will secured 93.69 MARKS."
   ],
   "metadata": {}
  },
  {
   "cell_type": "markdown",
   "source": [
    "### Completed task#1\r\n"
   ],
   "metadata": {}
  }
 ],
 "metadata": {
  "kernelspec": {
   "name": "python3",
   "display_name": "Python 3.9.5 64-bit"
  },
  "language_info": {
   "codemirror_mode": {
    "name": "ipython",
    "version": 3
   },
   "file_extension": ".py",
   "mimetype": "text/x-python",
   "name": "python",
   "nbconvert_exporter": "python",
   "pygments_lexer": "ipython3",
   "version": "3.9.5"
  },
  "interpreter": {
   "hash": "dcacb0086e9a4f4eabd41c33bf4faac5ea0a3337ed3f5eff0680afa930572c04"
  }
 },
 "nbformat": 4,
 "nbformat_minor": 2
}